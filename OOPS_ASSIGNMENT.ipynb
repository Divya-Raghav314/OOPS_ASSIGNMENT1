{
  "nbformat": 4,
  "nbformat_minor": 0,
  "metadata": {
    "colab": {
      "provenance": []
    },
    "kernelspec": {
      "name": "python3",
      "display_name": "Python 3"
    },
    "language_info": {
      "name": "python"
    }
  },
  "cells": [
    {
      "cell_type": "markdown",
      "source": [
        "#1.  What is Object-Oriented Programming (OOP)?\n",
        "OOP is object oriented programming.\n",
        "OOP is a programming paragdim based on the concept of objects which are instaances of class. These objects contains data(attributes) and code(methods/functions).\n",
        "\n",
        "#2.What is a class in OOP?\n",
        "Class is a blueprint or template of creating an object. They define attributes and methods that all object in class will have.\n",
        "\n",
        "#3. What is an object in OOP?\n",
        "Object is an instance of class that represents a specific entity or behaviour.\n",
        "For example:-\n",
        "my_car = car(\"4tyres\")\n",
        "Here my_car is object\n",
        "\n",
        "#4 What is the difference between abstraction and encapsulation?\n",
        "*  Abstraction means hiding implementation details and showing only the essential features however encapsulation means wrapping data and code into single unit and restriciting access\n",
        "*  Abstraction is used to hid the irrelevant details to simplify complexity however encapsulation is used to protect the data and enures controlled access.\n",
        "*   Abstraction is achieved by @abc.abstractmethod while encapsulation is achieved by using access modifiers like public, private and protected.\n",
        "\n",
        "#5. What are dunder methods in Python?\n",
        "Dunder methods in python are special methods that started and ends with double underscores and also known as magic methods.\n",
        "Dunder methods are the methods defined by built-in classes in python.\n",
        "Classes define these type of methods for creating custom objects.\n",
        "\n",
        "#6.Explain the concept of inheritance in OOP?\n",
        "Inheritance is a core concept in which it allows child class to have properties and attributes of parent class(another class).\n",
        "syntax:-\n",
        " class Base_class:\n",
        "   print('base class')\n",
        "\n",
        " class child_class(Base_class):\n",
        "  print('child class')\n",
        "\n",
        "\n",
        "#7. What is polymorphism in OOP?\n",
        "Polymorphism is derived from two poly and morphism.\n",
        "poly means many and morphism means forms.\n",
        "It allows you to use same method differently depending on the object class.\n",
        "\n",
        "#8. How is encapsulation achieved in Python?\n",
        "Encapsulation in python is achived by using access modifiers private, public and protected.\n",
        "\n",
        "#9. What is a constructor in Python?\n",
        "A constructor in python is a special method in python called as __init__(), which is automatically called when a new object of a class is created.\n",
        "It initialize the object's attributes.\n",
        "\n",
        "#10. What are class and static methods in Python?\n",
        "Class methods is an inbuilt python decorators which takes class(cls) itself as the first arguements and you have access to modifying class level attribute/statement.\n",
        "Static methods is an inbuilt python decorators which doesn'take any first arguement and you have no access to modification.\n",
        "\n",
        "\n",
        "#11. What is method overloading in Python?\n",
        "Method overloading means defining multiple methods with the same name but different arguements so that right one is chosen depending on how you call it.\n",
        "\n",
        "#12. What is method overriding in OOP?\n",
        "Method overriding means defining same method in both base class and child class but child class method will override the parent method hence child class method will be executed.\n",
        "\n",
        "#13.  What is a property decorator in Python?\n",
        "Property method allows you to access methods as an attribute. It is used to turn method into getter.\n",
        "\n",
        "#14. Why is polymorphism important in OOP?\n",
        "Polymorphism is important in OOP because of following reason:-\n",
        "1. Flexibility of using code as per the different object class.\n",
        "2. Reusability\n",
        "3. Extensibility\n",
        "4. Supports Method Overriding\n",
        "\n",
        "#15. What is an abstract class in Python?\n",
        "An abstract class in Python is a class that cannot be instantiated(can not make object of it) directly and is used as a blueprint for other classes.\n",
        "\n",
        "#16. What are the advantages of OOP?\n",
        "1. Modularity- Code written in classes and objects makes it manageable.\n",
        "2. Reusability- Inheritance allows you to reuse the code.\n",
        "3. Encapsulation helps to keep the data private, public and protected.\n",
        "4. Polymorphism enables you using same method name differently with different object class.\n",
        "5. Abstraction helps you to hid the complex implementation.\n",
        "6. Helps in debugging and ease of maintenance.\n",
        "\n",
        "#17. What is the difference between a class variable and an instance variable?\n",
        "Class variable:-\n",
        "Defined under class but outside any methods.\n",
        "Accessed using class.variable.\n",
        "It is common to all objects.\n",
        "\n",
        "Instance variable-\n",
        "Defined under methods usually inside __init__ using self.\n",
        "Accessed using self.variable.\n",
        "It is unique per object.\n",
        "\n",
        "\n",
        "#18. What is multiple inheritance in Python?\n",
        "Multiple inheritance means child class has attributes/properties of multiple parent(base) class.\n",
        "\n",
        "\n",
        "#19. Explain the purpose of ‘’__str__’ and ‘__repr__’ ‘ methods in Python?\n",
        "__str__ are special methods used to define the string representation of objects.\n",
        "\n",
        "__str__ returns a readable informal discription.\n",
        "__repr__ returns a formal, unambiguous representation.\n",
        "\n",
        "\n",
        "\n",
        "#20. What is the significance of the ‘super()’ function in Python?\n",
        "Super() signifies it is used to call methods from parent class in a child class.\n",
        "\n",
        "#21. What is the significance of the __del__ method in Python?\n",
        "__del__ is a special method used to delete a method from the class. It is also known as destructor.\n",
        "\n",
        "#22. What is the difference between @staticmethod and @classmethod in Python?\n",
        "@classmethod:-\n",
        "It takes cls as first arguement.\n",
        "It allows you access of modifying class level attributes/statements.\n",
        "\n",
        "@staticmethod:-\n",
        "It doesn't takes any first arguement.\n",
        "It doesn't allows you to access to modifying attributes.\n",
        "\n",
        "#23. How does polymorphism work in Python with inheritance?\n",
        "Polymorphism with inheritance in python allows child class to override the methods of parent class.\n",
        "\n",
        "#24. What is method chaining in Python OOP?\n",
        "Method chaining in python OOP where you call all methods on the same object in a single line.\n",
        "\n",
        "#25. What is the purpose of the __call__ method in Python?\n",
        "__call__ is used to make objects behave like functions and it is also called like a function called.\n",
        "\n",
        "\n",
        "\n",
        "\n",
        "\n",
        "\n"
      ],
      "metadata": {
        "id": "Y2cyiIQus5jo"
      }
    },
    {
      "cell_type": "code",
      "source": [
        "#Practical Question"
      ],
      "metadata": {
        "id": "zmUDVEYDMBPW"
      },
      "execution_count": null,
      "outputs": []
    },
    {
      "cell_type": "code",
      "source": [
        "#1 Create a parent class Animal with a method speak() that prints a generic message. Create a child class Dog that overrides the speak() method to print \"Bark!\".\n",
        "class Animal:\n",
        "  def speak(self):\n",
        "    print('Animal is speaking')\n",
        "\n",
        "class dog(Animal):\n",
        "  def speak(self):\n",
        "    print('bark!')\n",
        "\n",
        "jacky = dog()\n",
        "jacky.speak()"
      ],
      "metadata": {
        "colab": {
          "base_uri": "https://localhost:8080/"
        },
        "id": "pqFwOzdVMFqd",
        "outputId": "059c499b-5462-42da-d331-4915a8be39bf"
      },
      "execution_count": null,
      "outputs": [
        {
          "output_type": "stream",
          "name": "stdout",
          "text": [
            "bark!\n"
          ]
        }
      ]
    },
    {
      "cell_type": "code",
      "source": [
        "#2 Write a program to create an abstract class Shape with a method area(). Derive classes Circle and Rectangle from it and implement the area() method in both.\n",
        "import abc\n",
        "class shape:\n",
        "  @abc.abstractmethod\n",
        "  def area(self):\n",
        "    pass\n",
        "\n",
        "class circle(shape):\n",
        "  def area(self, r):\n",
        "    return 3.14*r*r\n",
        "\n",
        "class rectangle(shape):\n",
        "  def area(self, l , b):\n",
        "    return l*b\n",
        "\n",
        "c = circle()\n",
        "c.area(5)"
      ],
      "metadata": {
        "colab": {
          "base_uri": "https://localhost:8080/"
        },
        "id": "sAJyMTYSM0Of",
        "outputId": "2dc62fc2-8b26-420e-981b-f1e0285b45a2"
      },
      "execution_count": null,
      "outputs": [
        {
          "output_type": "execute_result",
          "data": {
            "text/plain": [
              "78.5"
            ]
          },
          "metadata": {},
          "execution_count": 6
        }
      ]
    },
    {
      "cell_type": "code",
      "source": [
        "r = rectangle()\n",
        "r.area(7,8)"
      ],
      "metadata": {
        "colab": {
          "base_uri": "https://localhost:8080/"
        },
        "id": "VegfjM-COYlm",
        "outputId": "2f5a2bdb-7e40-4ae5-afa8-d0a6d29e6e8d"
      },
      "execution_count": null,
      "outputs": [
        {
          "output_type": "execute_result",
          "data": {
            "text/plain": [
              "56"
            ]
          },
          "metadata": {},
          "execution_count": 7
        }
      ]
    },
    {
      "cell_type": "code",
      "source": [
        "#3. Implement a multi-level inheritance scenario where a class Vehicle has an attribute type. Derive a class Car and further derive a class ElectricCar that adds a battery attribute\n",
        "class vehicle:\n",
        "  def four_wheeler(self):\n",
        "    print('this is vehicle')\n",
        "\n",
        "class car(vehicle):\n",
        "  def gen_car(self,name):\n",
        "    print(f'this is {name}')\n",
        "\n",
        "class electric_car:\n",
        "  def elec_car(self, battery):\n",
        "    print('this is an electric car having battery of mah ', battery)\n",
        "\n",
        "c = electric_car()\n",
        "c.elec_car(5000)"
      ],
      "metadata": {
        "colab": {
          "base_uri": "https://localhost:8080/"
        },
        "id": "O2tD2yAoOgEM",
        "outputId": "aecd0df6-eb72-40ff-a830-feadd7346be6"
      },
      "execution_count": null,
      "outputs": [
        {
          "output_type": "stream",
          "name": "stdout",
          "text": [
            "this is an electric car having battery of mah  5000\n"
          ]
        }
      ]
    },
    {
      "cell_type": "code",
      "source": [
        "#4\n",
        "class bird:\n",
        "  def fly(self):\n",
        "    print('bird is flying')\n",
        "\n",
        "class sparrow(bird):\n",
        "  def fly(self):\n",
        "    print('sparrow is flying')\n",
        "\n",
        "class penguin(bird):\n",
        "  def fly(self):\n",
        "    print('pengium is not flying')\n",
        "\n",
        "pp = bird()\n",
        "pp.fly()"
      ],
      "metadata": {
        "colab": {
          "base_uri": "https://localhost:8080/"
        },
        "id": "KBb6VvjSQG0E",
        "outputId": "d7a216a7-aed7-4a58-ba2b-d37f328c8334"
      },
      "execution_count": null,
      "outputs": [
        {
          "output_type": "stream",
          "name": "stdout",
          "text": [
            "bird is flying\n"
          ]
        }
      ]
    },
    {
      "cell_type": "code",
      "source": [
        "#5  Write a program to demonstrate encapsulation by creating a class BankAccount with private attributes balance and methods to deposit, withdraw, and check balance.\n",
        "class bank:\n",
        "  def __init__(self, balance):\n",
        "    self.balance = balance\n",
        "\n",
        "  def deposit(self, amount):\n",
        "    self.amount = amount\n",
        "    self.balance += amount\n",
        "    return self.balance\n",
        "\n",
        "  def withdraw(self, withdrawl_amount):\n",
        "    self.withdrawl_amount = withdrawl_amount\n",
        "    self.balance -= withdrawl_amount\n",
        "    return self.balance\n",
        "\n",
        "  def show(self):\n",
        "    return self.balance\n",
        "\n",
        "ajay = bank(10000)\n",
        "ajay.deposit(50000)\n",
        "ajay.withdraw(13000)\n",
        "ajay.show()\n"
      ],
      "metadata": {
        "colab": {
          "base_uri": "https://localhost:8080/"
        },
        "id": "2QFeefpnRmUt",
        "outputId": "fe3ee3d0-779f-491b-d0a5-d7ca1c1a85fe"
      },
      "execution_count": null,
      "outputs": [
        {
          "output_type": "execute_result",
          "data": {
            "text/plain": [
              "47000"
            ]
          },
          "metadata": {},
          "execution_count": 15
        }
      ]
    },
    {
      "cell_type": "code",
      "source": [
        "#6  Demonstrate runtime polymorphism using a method play() in a base class Instrument. Derive classes Guitar and Piano that implement their own version of play().\n",
        "class instrument:\n",
        "  def play(self):\n",
        "    print('instrument is playing')\n",
        "\n",
        "class guitar(instrument):\n",
        "  def play(self):\n",
        "    print(\"guitar is playing\")\n",
        "\n",
        "class piano(instrument):\n",
        "  def play(self):\n",
        "    print('piano is playing')\n",
        "\n",
        "def sound(instrument):\n",
        "  sound.play()\n",
        "\n",
        "guitar = guitar()\n",
        "guitar.play()"
      ],
      "metadata": {
        "colab": {
          "base_uri": "https://localhost:8080/"
        },
        "id": "hbjMJvckT0ot",
        "outputId": "d6c6928c-1fca-4e23-e9bb-352e629e48d0"
      },
      "execution_count": null,
      "outputs": [
        {
          "output_type": "stream",
          "name": "stdout",
          "text": [
            "guitar is playing\n"
          ]
        }
      ]
    },
    {
      "cell_type": "code",
      "source": [
        "#7 Create a class MathOperations with a class method add_numbers() to add two numbers and a static method to display the\n",
        ".method subtract_numbers() to subtract two numbers.\n",
        "class MathOperations:\n",
        "  @classmethod\n",
        "  def add(cls, num1, num2):\n",
        "    return num1 + num2\n",
        "\n",
        "  @staticmethod\n",
        "  def subtract(num1, num2):\n",
        "    return num2 - num1\n",
        "\n",
        "MathOperations.add(7,8)"
      ],
      "metadata": {
        "colab": {
          "base_uri": "https://localhost:8080/"
        },
        "id": "h3wlMTgkWtLs",
        "outputId": "227d3407-8053-4541-fedd-68d3b6bf1278"
      },
      "execution_count": null,
      "outputs": [
        {
          "output_type": "execute_result",
          "data": {
            "text/plain": [
              "15"
            ]
          },
          "metadata": {},
          "execution_count": 17
        }
      ]
    },
    {
      "cell_type": "code",
      "source": [
        "MathOperations.subtract(21, 94)"
      ],
      "metadata": {
        "colab": {
          "base_uri": "https://localhost:8080/"
        },
        "id": "ewlyo5d0YKYk",
        "outputId": "95c7c063-bce4-455d-b96d-421cdb89286d"
      },
      "execution_count": null,
      "outputs": [
        {
          "output_type": "execute_result",
          "data": {
            "text/plain": [
              "73"
            ]
          },
          "metadata": {},
          "execution_count": 18
        }
      ]
    },
    {
      "cell_type": "code",
      "source": [
        "#8 Implement a class Person with a class method to count the total number of persons created\n",
        "class person:\n",
        "  count = 0\n",
        "  def __init__(self, name, age):\n",
        "    self.name = name\n",
        "    self.age = age\n",
        "    person.count += 1\n",
        "  @classmethod\n",
        "  def count_persons(cls):\n",
        "    return cls.count\n",
        "\n",
        "obj1 = person('Ram', 45)\n",
        "obj2 = person('shyam', 78)\n",
        "person.count_persons()"
      ],
      "metadata": {
        "colab": {
          "base_uri": "https://localhost:8080/"
        },
        "id": "dJ8DPBNjYSer",
        "outputId": "b4b99e6d-2e3c-4c29-f427-bf43ca89013d"
      },
      "execution_count": null,
      "outputs": [
        {
          "output_type": "execute_result",
          "data": {
            "text/plain": [
              "2"
            ]
          },
          "metadata": {},
          "execution_count": 22
        }
      ]
    },
    {
      "cell_type": "code",
      "source": [
        "#9  Write a class Fraction with attributes numerator and denominator. Override the str method to display the fraction as \"numerator/denominator\".\n",
        "class fraction:\n",
        "  def __init__(self, numerator, denominator):\n",
        "    self.numerator = numerator\n",
        "    self.denominator = denominator\n",
        "\n",
        "  def __str__(self):\n",
        "    return f'{self.numerator}/{self.denominator}'\n",
        "\n",
        "f = fraction(4, 5)\n",
        "f.__str__()\n"
      ],
      "metadata": {
        "id": "WYeJaORxZKbP",
        "colab": {
          "base_uri": "https://localhost:8080/",
          "height": 36
        },
        "outputId": "ce5789ba-5ef8-4399-ac83-6fdfe110f52c"
      },
      "execution_count": 1,
      "outputs": [
        {
          "output_type": "execute_result",
          "data": {
            "text/plain": [
              "'4/5'"
            ],
            "application/vnd.google.colaboratory.intrinsic+json": {
              "type": "string"
            }
          },
          "metadata": {},
          "execution_count": 1
        }
      ]
    },
    {
      "cell_type": "code",
      "source": [
        "#10 Demonstrate operator overloading by creating a class Vector and overriding the add method to add two vectors.\n",
        "class Vector:\n",
        "  def __init__(self, x, y):\n",
        "    self.x = x\n",
        "    self.y = y\n",
        "\n",
        "  def __add__(self, other):\n",
        "    return Vector(self.x + other.x, self.y + other.y)\n",
        "\n",
        "  def __str__(self):\n",
        "    return f'vector {self.x}, {self.y}'\n",
        "\n",
        "vec1 = Vector(4, 5)\n",
        "vect2 = Vector(5, 4)\n",
        "vec3 = vec1 + vect2\n",
        "print(vec3)\n"
      ],
      "metadata": {
        "colab": {
          "base_uri": "https://localhost:8080/"
        },
        "id": "YkHXGh-MA_KK",
        "outputId": "a234ea11-0324-4084-88f0-672e68d228ed"
      },
      "execution_count": 6,
      "outputs": [
        {
          "output_type": "stream",
          "name": "stdout",
          "text": [
            "vector 9, 9\n"
          ]
        }
      ]
    },
    {
      "cell_type": "code",
      "source": [
        "#11  Create a class Person with attributes name and age. Add a method greet() that prints \"Hello, my name is {name} and I am {age} years old.\"\n",
        "class person:\n",
        "  def __init__(self, name, age):\n",
        "    self.name = name\n",
        "    self.age = age\n",
        "\n",
        "  def greet(self):\n",
        "    return f\"Hello, my name is {self.name} and I am {self.age} year old\"\n",
        "\n",
        "obj = person(\"Ram\", 67)\n",
        "obj.greet()"
      ],
      "metadata": {
        "colab": {
          "base_uri": "https://localhost:8080/",
          "height": 36
        },
        "id": "ZEAu6myMCnoD",
        "outputId": "af19048d-e8e0-4a24-ea02-b6eac2c04122"
      },
      "execution_count": 7,
      "outputs": [
        {
          "output_type": "execute_result",
          "data": {
            "text/plain": [
              "'Hello, my name is Ram and I am 67 year old'"
            ],
            "application/vnd.google.colaboratory.intrinsic+json": {
              "type": "string"
            }
          },
          "metadata": {},
          "execution_count": 7
        }
      ]
    },
    {
      "cell_type": "code",
      "source": [
        "#12 . Implement a class Student with attributes name and grades. Create a method average_grade() to compute the average of the grades.\n",
        "class student:\n",
        "  def __init__(self, name, grades):\n",
        "    self.name = name\n",
        "    self.grades = grades\n",
        "\n",
        "  def average_grade(self):\n",
        "    if len(self.grades) == 0:\n",
        "      return 0\n",
        "    return sum(self.grades)/len(self.grades)\n",
        "\n",
        "\n",
        "obj3 = student(\"Shyam\", [79, 89, 44])\n",
        "obj3.average_grade()"
      ],
      "metadata": {
        "colab": {
          "base_uri": "https://localhost:8080/"
        },
        "id": "RK-Wr1e-DOr7",
        "outputId": "8cac6e38-68a0-4798-bde2-d662f8ac54b5"
      },
      "execution_count": 11,
      "outputs": [
        {
          "output_type": "execute_result",
          "data": {
            "text/plain": [
              "70.66666666666667"
            ]
          },
          "metadata": {},
          "execution_count": 11
        }
      ]
    },
    {
      "cell_type": "code",
      "source": [
        "#13  Create a class Rectangle with methods set_dimensions() to set the dimensions and area() to calculate the area.\n",
        "class rectangle:\n",
        "  def set_dimension(self, length, breadth):\n",
        "    self.length = length\n",
        "    self.breadth = breadth\n",
        "\n",
        "  def area(self):\n",
        "      return self.length * self.breadth\n",
        "\n",
        "obj4 = rectangle()\n",
        "obj4.set_dimension(4, 5)\n",
        "obj4.area()\n",
        "\n"
      ],
      "metadata": {
        "colab": {
          "base_uri": "https://localhost:8080/"
        },
        "id": "Z5CJ_d84EfiW",
        "outputId": "52de529a-eb19-4f0c-c7e6-24924d1e3834"
      },
      "execution_count": 16,
      "outputs": [
        {
          "output_type": "execute_result",
          "data": {
            "text/plain": [
              "20"
            ]
          },
          "metadata": {},
          "execution_count": 16
        }
      ]
    },
    {
      "cell_type": "code",
      "source": [
        "#14  Create a class Employee with a method calculate_salary() that computes the salary based on hours worked and hourly rate. Create a derived class Manager that adds a bonus to the salary.\n",
        "class employee:\n",
        "  def __init__(self, hours, rate):\n",
        "    self.hours = hours\n",
        "    self.rate = rate\n",
        "\n",
        "  def  calculate_salary(self):\n",
        "    return self.hours * self.rate\n",
        "\n",
        "class manager(employee):\n",
        "  def __init__(self, hours, rate, extra_hours=0, bonus_rate=0):\n",
        "    super().__init__(hours, rate)\n",
        "    self.extra_hours = extra_hours\n",
        "    self.bonus_rate = bonus_rate\n",
        "\n",
        "  def bonus_cal(self):\n",
        "      return self.extra_hours * self.bonus_rate\n",
        "\n",
        "  def calculate_salary(self):\n",
        "    base_salary = super().calculate_salary()\n",
        "    bonus = self.bonus_cal()\n",
        "    return base_salary + bonus\n",
        "\n",
        "\n",
        "obj5 = manager(4, 8, 2, 10)\n",
        "print(obj5.calculate_salary())"
      ],
      "metadata": {
        "colab": {
          "base_uri": "https://localhost:8080/"
        },
        "id": "YVlLXHGyGBIJ",
        "outputId": "c85610dc-c6e9-4b9e-e45b-f6e563b742c8"
      },
      "execution_count": 29,
      "outputs": [
        {
          "output_type": "stream",
          "name": "stdout",
          "text": [
            "52\n"
          ]
        }
      ]
    },
    {
      "cell_type": "code",
      "source": [
        "#15 Create a class Product with attributes name, price, and quantity. Implement a method total_price() that calculates the total price of the product.\n",
        "class Product:\n",
        "  def __init__(self,  name, price, quantity):\n",
        "    self.name = name\n",
        "    self.price = price\n",
        "    self.quantity = quantity\n",
        "\n",
        "\n",
        "  def total_price(self):\n",
        "    return self.price * self.quantity\n",
        "\n",
        "sample1 = Product(\"book\", 250, 24)\n",
        "sample1.total_price()"
      ],
      "metadata": {
        "colab": {
          "base_uri": "https://localhost:8080/"
        },
        "id": "aV2WHXctLE03",
        "outputId": "06dc65f7-0b1c-4427-9f11-ef8db08d6a1f"
      },
      "execution_count": 31,
      "outputs": [
        {
          "output_type": "execute_result",
          "data": {
            "text/plain": [
              "6000"
            ]
          },
          "metadata": {},
          "execution_count": 31
        }
      ]
    },
    {
      "cell_type": "code",
      "source": [
        "#16 . Create a class Animal with an abstract method sound(). Create two derived classes Cow and Sheep that implement the sound() method.\n",
        "import abc\n",
        "class animal:\n",
        "  @abc.abstractmethod\n",
        "  def sound(self):\n",
        "    pass\n",
        "\n",
        "class cow(animal):\n",
        "  def sound(self):\n",
        "    return \"sound of cow\"\n",
        "\n",
        "class sheep(animal):\n",
        "  def sound(self):\n",
        "    return 'sound of sheep'\n",
        "\n",
        "\n",
        "obj7 = cow()\n",
        "obj8 = sheep()\n",
        "print(f'cow - {obj7.sound()}')\n",
        "print(f'sheep - {obj8.sound()}')"
      ],
      "metadata": {
        "colab": {
          "base_uri": "https://localhost:8080/"
        },
        "id": "nhPNE69tL97m",
        "outputId": "16b8421f-3e5e-49bc-eef1-566281e846a7"
      },
      "execution_count": 35,
      "outputs": [
        {
          "output_type": "stream",
          "name": "stdout",
          "text": [
            "cow - sound of cow\n",
            "sheep - sound of sheep\n"
          ]
        }
      ]
    },
    {
      "cell_type": "code",
      "source": [
        "#17 . Create a class Book with attributes title, author, and year_published. Add a method get_book_info() that returns a formatted string with the book's details.\n",
        "class book:\n",
        "  def __init__(self, title, author, year_published):\n",
        "    self.title = title\n",
        "    self.author = author\n",
        "    self.year_published = year_published\n",
        "\n",
        "  def get_book_info(self):\n",
        "    return f\"the title of book is {self.title} written by {self.author} and published in {self.year_published}th century\"\n",
        "\n",
        "book1 = book(\"Ramayan\", \"Valmiki\", 5)\n",
        "print(book1.get_book_info())"
      ],
      "metadata": {
        "colab": {
          "base_uri": "https://localhost:8080/"
        },
        "id": "ttLs6AlUNKVM",
        "outputId": "efdbdcd5-648b-4d2c-ed21-093b871f9458"
      },
      "execution_count": 40,
      "outputs": [
        {
          "output_type": "stream",
          "name": "stdout",
          "text": [
            "the title of book is Ramayan written by Valmiki and published in 5th century\n"
          ]
        }
      ]
    },
    {
      "cell_type": "code",
      "source": [
        "#18 Create a class House with attributes address and price. Create a derived class Mansion that adds an attribute number_of_rooms.\n",
        "class house:\n",
        "  def __init__(self, address, price):\n",
        "    self.address = address\n",
        "    self.price = price\n",
        "\n",
        "\n",
        "class Mansion(house):\n",
        "  def __init__(self, address, price, number_of_rooms):\n",
        "    super().__init__(address, price)\n",
        "    self.number_of_rooms = number_of_rooms\n",
        "\n",
        "  def get_info(self):\n",
        "    return (self.address, self.price, self.number_of_rooms)\n",
        "\n",
        "\n",
        "home = Mansion('Gurugram', 10000000 , 18)\n",
        "home.get_info()\n"
      ],
      "metadata": {
        "colab": {
          "base_uri": "https://localhost:8080/"
        },
        "id": "UHdh3upVPcWO",
        "outputId": "0bb68399-05e2-4998-d6a7-4f092d7ba102"
      },
      "execution_count": 42,
      "outputs": [
        {
          "output_type": "execute_result",
          "data": {
            "text/plain": [
              "('Gurugram', 10000000, 18)"
            ]
          },
          "metadata": {},
          "execution_count": 42
        }
      ]
    }
  ]
}